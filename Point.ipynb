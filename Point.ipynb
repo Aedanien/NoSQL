{
 "cells": [
  {
   "cell_type": "code",
   "execution_count": 22,
   "metadata": {},
   "outputs": [
    {
     "name": "stdout",
     "output_type": "stream",
     "text": [
      "P(1, 2, 3)\n",
      "P(2, 1)\n"
     ]
    }
   ],
   "source": [
    "class Point :\n",
    "    def __init__(self,x,y,z=None):\n",
    "        self.x=x\n",
    "        self.z=z\n",
    "        self.y=y\n",
    "    def toString(self):\n",
    "        if self.z !=None:\n",
    "            print(\"P(\"+str(self.x)+\", \"+str(self.y)+\", \"+str(self.z)+\")\")\n",
    "        else:  print(\"P(\"+str(self.x)+\", \"+str(self.y)+\")\")\n",
    "p=Point(1,2,3)\n",
    "p.toString()\n",
    "p2=Point(2,1)\n",
    "p2.toString()"
   ]
  },
  {
   "cell_type": "code",
   "execution_count": null,
   "metadata": {},
   "outputs": [],
   "source": []
  }
 ],
 "metadata": {
  "kernelspec": {
   "display_name": "Python 3",
   "language": "python",
   "name": "python3"
  },
  "language_info": {
   "codemirror_mode": {
    "name": "ipython",
    "version": 3
   },
   "file_extension": ".py",
   "mimetype": "text/x-python",
   "name": "python",
   "nbconvert_exporter": "python",
   "pygments_lexer": "ipython3",
   "version": "3.8.1"
  }
 },
 "nbformat": 4,
 "nbformat_minor": 4
}
