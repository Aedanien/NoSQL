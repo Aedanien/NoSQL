{
 "cells": [
  {
   "cell_type": "code",
   "execution_count": 1,
   "metadata": {},
   "outputs": [
    {
     "name": "stdout",
     "output_type": "stream",
     "text": [
      "hello world\n"
     ]
    }
   ],
   "source": [
    "print('hello world')"
   ]
  },
  {
   "cell_type": "code",
   "execution_count": 16,
   "metadata": {},
   "outputs": [
    {
     "name": "stdout",
     "output_type": "stream",
     "text": [
      "Vous avez demander le compte de  Cr  contenant  700  euros\n",
      "Vous avez demander le compte de  Cr  contenant  -200  euros\n"
     ]
    }
   ],
   "source": [
    "class bank :\n",
    "    def __init__(self,  nom, montant):\n",
    "        self.nom=nom\n",
    "        self.montant=montant\n",
    "        \n",
    "    def depot(self,m):\n",
    "        self.montant=self.montant+m\n",
    "    \n",
    "    def retrait(self,r):\n",
    "        self.montant=self.montant-r\n",
    "        \n",
    "    def affiche(self):\n",
    "        print(\"Vous avez demander le compte de \",self.nom,\" contenant \",self.montant,\" euros\")\n",
    "    \n",
    "banq=bank(\"Cr\",500)\n",
    "banq.depot(200)\n",
    "banq.affiche()\n",
    "banq.retrait(900)\n",
    "banq.affiche()        "
   ]
  },
  {
   "cell_type": "code",
   "execution_count": null,
   "metadata": {},
   "outputs": [],
   "source": []
  }
 ],
 "metadata": {
  "kernelspec": {
   "display_name": "Python 3",
   "language": "python",
   "name": "python3"
  },
  "language_info": {
   "codemirror_mode": {
    "name": "ipython",
    "version": 3
   },
   "file_extension": ".py",
   "mimetype": "text/x-python",
   "name": "python",
   "nbconvert_exporter": "python",
   "pygments_lexer": "ipython3",
   "version": "3.8.1"
  }
 },
 "nbformat": 4,
 "nbformat_minor": 4
}
