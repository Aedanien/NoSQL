{
 "cells": [
  {
   "cell_type": "code",
   "execution_count": 7,
   "metadata": {},
   "outputs": [
    {
     "name": "stdout",
     "output_type": "stream",
     "text": [
      "Lettre:\n",
      " Adresse de destination: Lille \n",
      " Adresse expedition: Paris\n",
      " Poids: 80 grammes\n",
      " Mode:  normal\n",
      " Format:A4\n",
      " Prix du timbre:0.2\n",
      "Colis:\n",
      " Adresse de destination: Marrakeche \n",
      " Adresse expedition: Barcelone\n",
      " Poids: 3500 grammes\n",
      " Mode:  express\n",
      " Volume: 2.25 litres\n",
      " Prix du timbre:3.9375\n"
     ]
    }
   ],
   "source": [
    "class Courrier:\n",
    "     \n",
    "    def __init__(self,AdresseDestination,AdresseExpedition,poids,mode):\n",
    "        self.AdresseDestination=AdresseDestination\n",
    "        self.AdresseExpedition=AdresseExpedition\n",
    "        self.poids=poids\n",
    "        self.mode=mode\n",
    "         \n",
    "    def ToString(self):\n",
    "         \n",
    "        print(\" Adresse de destination: \"+str(self.AdresseDestination)+\" \\n Adresse expedition: \"+str(self.AdresseExpedition)+\"\\n Poids: \"+str(self.poids)+\" grammes\\n Mode:  \"+str(self.mode))\n",
    " \n",
    " \n",
    "class Lettre(Courrier):\n",
    "    def __init__(self,AdressedeDestination,AdresseExpedition,poids,mode,format):\n",
    "        Courrier.__init__(self,AdressedeDestination,AdresseExpedition,poids,mode)\n",
    "        self.format=format\n",
    "         \n",
    "    def calculTimbre(self):\n",
    "         \n",
    "        if self.format==\"A4\":tarif=2.5\n",
    "        if self.format==\"A3\":tarif=3.5\n",
    "         \n",
    "        montant=tarif*(self.poids/1000)\n",
    "         \n",
    "        if self.mode==\"express\":\n",
    "            montant*=2\n",
    "         \n",
    "        return round(montant,2)\n",
    "         \n",
    "    def toString(self):\n",
    "        print(\"Lettre:\")\n",
    "        Courrier.ToString(self)\n",
    "        print(\" Format:\"+str(self.format)+\"\\n Prix du timbre:\"+str(self.calculTimbre()))\n",
    " \n",
    "class Colis(Courrier):\n",
    "    def __init__(self,AdressedeDestination,AdresseExpedition,poids,mode,volume):\n",
    "        Courrier.__init__(self,AdressedeDestination,AdresseExpedition,poids,mode)\n",
    "        self.volume=volume\n",
    "    def calculTimbre(self):\n",
    "         \n",
    "        montant=0.0\n",
    "         \n",
    "        montant=0.25*self.volume*(self.poids/1000)\n",
    "         \n",
    "        if self.mode==\"express\":\n",
    "            montant*=2\n",
    "         \n",
    "        return round(montant,2)\n",
    "         \n",
    "    def toString(self):\n",
    "         \n",
    "        print(\"Colis:\")\n",
    "        Courrier.ToString(self)\n",
    "        print(\" Volume: \"+str(self.volume)+\" litres\\n Prix du timbre:\"+str(self.calculTimbre()))\n",
    "L1=Lettre(\"Lille\",\"Paris\",80,\"normal\",\"A4\")\n",
    "C1=Colis(\"Marrakeche\",\"Barcelone\",3500,\"express\",2.25)\n",
    "L1.toString()\n",
    "C1.toString()"
   ]
  },
  {
   "cell_type": "code",
   "execution_count": null,
   "metadata": {},
   "outputs": [],
   "source": []
  }
 ],
 "metadata": {
  "kernelspec": {
   "display_name": "Python 3",
   "language": "python",
   "name": "python3"
  },
  "language_info": {
   "codemirror_mode": {
    "name": "ipython",
    "version": 3
   },
   "file_extension": ".py",
   "mimetype": "text/x-python",
   "name": "python",
   "nbconvert_exporter": "python",
   "pygments_lexer": "ipython3",
   "version": "3.8.1"
  }
 },
 "nbformat": 4,
 "nbformat_minor": 4
}
