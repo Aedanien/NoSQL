{
 "cells": [
  {
   "cell_type": "code",
   "execution_count": 50,
   "metadata": {},
   "outputs": [
    {
     "name": "stdout",
     "output_type": "stream",
     "text": [
      "Nom:  a\n",
      "Prénom:  d\n",
      "Date de Naissance:01/07/1985\n",
      "Nom:  a\n",
      "Prénom:  r\n",
      "Date de Naissance:01/02/1998\n",
      "Salaire: 1500.26\n",
      "Veuillez réessayer avec un mois inferieur à 12\n",
      "Nom:  p\n",
      "Prénom:  c\n",
      "Date de Naissance:None\n",
      "Salaire: 15784\n",
      "Service: Manager\n"
     ]
    }
   ],
   "source": [
    "class DatedeNaissance:\n",
    "    def __init__(self,j,m,a):\n",
    "        self.j=j\n",
    "        self.m=m\n",
    "        self.a=a\n",
    "        \n",
    "    def toString(self):\n",
    "        if self.j<10:\n",
    "            j=\"0\"+str(self.j)\n",
    "        else: j=str(self.j)\n",
    "        \n",
    "        if self.m<10:\n",
    "            m=\"0\"+str(self.m)\n",
    "        else: m=str(self.m)\n",
    "            \n",
    "        a=str(self.a)\n",
    "        return (j+'/'+m+'/'+a)\n",
    "        \n",
    "class Personne:\n",
    "    def __init__(self,nom,prenom,date_de_naissance):\n",
    "        self.nom=nom\n",
    "        self.prenom=prenom\n",
    "        \n",
    "        self.date_de_naissance=date_de_naissance\n",
    "        \n",
    "    def Afficher(self):\n",
    "        print('Nom:  '+self.nom+'\\n'+'Prénom:  '+self.prenom+'\\n'+'Date de Naissance:'+str(self.date_de_naissance.toString()))\n",
    "        \n",
    "A=Personne(\"a\",\"d\",DatedeNaissance(1,7,1985))\n",
    "A.Afficher()\n",
    "\n",
    "\n",
    "class Employe(Personne):\n",
    "    def __init__(self,nom,prenom,date_de_naissance,salaire):\n",
    "        Personne.__init__(self,nom,prenom,date_de_naissance)\n",
    "        self.salaire=salaire\n",
    "        \n",
    "    def Afficher(self):\n",
    "        Personne.Afficher(self)\n",
    "        print(\"Salaire: \"+str(round(self.salaire,2)))\n",
    "        \n",
    "E=Employe('a','r',DatedeNaissance(1,2,1998),1500.258)\n",
    "E.Afficher()\n",
    "\n",
    "class Chef(Employe):\n",
    "    def __init__(self,nom,prenom,date_de_naissance,salaire,service):\n",
    "        Employe.__init__(self,nom,prenom,date_de_naissance,salaire)\n",
    "        self.service=str(service)\n",
    "        \n",
    "    def Afficher(self):\n",
    "        Employe.Afficher(self)\n",
    "        print(\"Service: \"+self.service)\n",
    "        \n",
    "C=Chef('p','c',DatedeNaissance(15,13,1888),15784,'Manager')\n",
    "C.Afficher()"
   ]
  },
  {
   "cell_type": "code",
   "execution_count": null,
   "metadata": {},
   "outputs": [],
   "source": []
  },
  {
   "cell_type": "code",
   "execution_count": null,
   "metadata": {},
   "outputs": [],
   "source": []
  },
  {
   "cell_type": "code",
   "execution_count": null,
   "metadata": {},
   "outputs": [],
   "source": []
  }
 ],
 "metadata": {
  "kernelspec": {
   "display_name": "Python 3",
   "language": "python",
   "name": "python3"
  },
  "language_info": {
   "codemirror_mode": {
    "name": "ipython",
    "version": 3
   },
   "file_extension": ".py",
   "mimetype": "text/x-python",
   "name": "python",
   "nbconvert_exporter": "python",
   "pygments_lexer": "ipython3",
   "version": "3.8.1"
  }
 },
 "nbformat": 4,
 "nbformat_minor": 4
}
